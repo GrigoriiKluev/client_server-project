{
 "cells": [
  {
   "cell_type": "code",
   "execution_count": 1,
   "metadata": {},
   "outputs": [],
   "source": [
    "Sample = type('Sample', tuple(), {})"
   ]
  },
  {
   "cell_type": "code",
   "execution_count": 3,
   "metadata": {},
   "outputs": [],
   "source": [
    "smp = Sample()"
   ]
  },
  {
   "cell_type": "code",
   "execution_count": 4,
   "metadata": {},
   "outputs": [
    {
     "data": {
      "text/plain": [
       "'Test'"
      ]
     },
     "execution_count": 4,
     "metadata": {},
     "output_type": "execute_result"
    }
   ],
   "source": [
    "smp.name = 'Test'\n",
    "smp.name"
   ]
  },
  {
   "cell_type": "code",
   "execution_count": 17,
   "metadata": {},
   "outputs": [],
   "source": [
    "class SingletonMeta(type):\n",
    "    def __init__(self, *args, **kwargs):\n",
    "        self.__instance = None\n",
    "        super().__init__(*args, **kwargs)\n",
    "        \n",
    "    def __call__(self, *args, **kwargs):\n",
    "        if not self.__instance:\n",
    "            self.__instance = super().__call__(*args, **kwargs)\n",
    "        return self.__instance"
   ]
  },
  {
   "cell_type": "code",
   "execution_count": 18,
   "metadata": {},
   "outputs": [],
   "source": [
    "class Sample(metaclass=SingletonMeta):\n",
    "    def __init__(self, name):\n",
    "        self._name = name\n",
    "        \n",
    "    @property\n",
    "    def name(self):\n",
    "        return self._name"
   ]
  },
  {
   "cell_type": "code",
   "execution_count": 19,
   "metadata": {},
   "outputs": [
    {
     "data": {
      "text/plain": [
       "'original'"
      ]
     },
     "execution_count": 19,
     "metadata": {},
     "output_type": "execute_result"
    }
   ],
   "source": [
    "smp = Sample('original')\n",
    "smp.name"
   ]
  },
  {
   "cell_type": "code",
   "execution_count": 20,
   "metadata": {},
   "outputs": [
    {
     "data": {
      "text/plain": [
       "'original'"
      ]
     },
     "execution_count": 20,
     "metadata": {},
     "output_type": "execute_result"
    }
   ],
   "source": [
    "smp = Sample('copy')\n",
    "smp.name"
   ]
  },
  {
   "cell_type": "code",
   "execution_count": 52,
   "metadata": {},
   "outputs": [],
   "source": [
    "class ContainerMeta(type):\n",
    "    def __init__(self, *args, **kwargs):\n",
    "        self.__instances = {}\n",
    "        super().__init__(*args, **kwargs)\n",
    "        \n",
    "    def __call__(self, name, *args, **kwargs):\n",
    "        if not name in self.__instances:\n",
    "            instance = super().__call__(name, *args, **kwargs)\n",
    "            self.__instances[name] = instance\n",
    "        else:\n",
    "            instance = self.__instances.get(name)\n",
    "        return instance"
   ]
  },
  {
   "cell_type": "code",
   "execution_count": 53,
   "metadata": {},
   "outputs": [],
   "source": [
    "class Sample(metaclass=ContainerMeta):\n",
    "    def __init__(self, name, age):\n",
    "        self._name = name\n",
    "        self._age = age\n",
    "        \n",
    "    @property\n",
    "    def name(self):\n",
    "        return self._name\n",
    "    \n",
    "    @property\n",
    "    def age(self):\n",
    "        return self._age"
   ]
  },
  {
   "cell_type": "code",
   "execution_count": 59,
   "metadata": {},
   "outputs": [
    {
     "data": {
      "text/plain": [
       "12"
      ]
     },
     "execution_count": 59,
     "metadata": {},
     "output_type": "execute_result"
    }
   ],
   "source": [
    "smp = Sample('original', 12)\n",
    "smp.age"
   ]
  },
  {
   "cell_type": "code",
   "execution_count": 60,
   "metadata": {},
   "outputs": [
    {
     "data": {
      "text/plain": [
       "12"
      ]
     },
     "execution_count": 60,
     "metadata": {},
     "output_type": "execute_result"
    }
   ],
   "source": [
    "smp = Sample('original', 13)\n",
    "smp.age"
   ]
  },
  {
   "cell_type": "code",
   "execution_count": 65,
   "metadata": {},
   "outputs": [],
   "source": [
    "smp = Sample('copy', 111)\n",
    "smp._age = 111"
   ]
  },
  {
   "cell_type": "code",
   "execution_count": 66,
   "metadata": {},
   "outputs": [
    {
     "data": {
      "text/plain": [
       "111"
      ]
     },
     "execution_count": 66,
     "metadata": {},
     "output_type": "execute_result"
    }
   ],
   "source": [
    "smp = Sample('copy', 432)\n",
    "smp.age"
   ]
  },
  {
   "cell_type": "code",
   "execution_count": 71,
   "metadata": {},
   "outputs": [
    {
     "name": "stdout",
     "output_type": "stream",
     "text": [
      "SimpleEnum.ATTR1\n",
      "SimpleEnum.ATTR2\n"
     ]
    }
   ],
   "source": [
    "import enum\n",
    "\n",
    "\n",
    "class SimpleEnum(enum.Enum):\n",
    "    ATTR1 = 'Test1'\n",
    "    ATTR2 = 'Test3'\n",
    "    \n",
    "SimpleEnum.ATTR1.value\n",
    "\n",
    "for itm in SimpleEnum:\n",
    "    print(itm)"
   ]
  },
  {
   "cell_type": "code",
   "execution_count": 77,
   "metadata": {},
   "outputs": [],
   "source": [
    "from enum import EnumMeta\n",
    "\n",
    "\n",
    "class SampleEnumMeta(EnumMeta):\n",
    "    def __iter__(cls):\n",
    "        for name in cls._member_names_:\n",
    "            member = cls._member_map_.get(name)\n",
    "            yield (member.name, member.value)\n",
    "            "
   ]
  },
  {
   "cell_type": "code",
   "execution_count": 78,
   "metadata": {},
   "outputs": [
    {
     "name": "stdout",
     "output_type": "stream",
     "text": [
      "('ATTR1', 'Test1')\n",
      "('ATTR2', 'Test3')\n"
     ]
    }
   ],
   "source": [
    "import enum\n",
    "\n",
    "\n",
    "class SimpleEnum(enum.Enum, metaclass=SampleEnumMeta):\n",
    "    ATTR1 = 'Test1'\n",
    "    ATTR2 = 'Test3'\n",
    "    \n",
    "SimpleEnum.ATTR1.value\n",
    "\n",
    "for itm in SimpleEnum:\n",
    "    print(itm)"
   ]
  }
 ],
 "metadata": {
  "kernelspec": {
   "display_name": "Python 3",
   "language": "python",
   "name": "python3"
  },
  "language_info": {
   "codemirror_mode": {
    "name": "ipython",
    "version": 3
   },
   "file_extension": ".py",
   "mimetype": "text/x-python",
   "name": "python",
   "nbconvert_exporter": "python",
   "pygments_lexer": "ipython3",
   "version": "3.7.2"
  }
 },
 "nbformat": 4,
 "nbformat_minor": 2
}
